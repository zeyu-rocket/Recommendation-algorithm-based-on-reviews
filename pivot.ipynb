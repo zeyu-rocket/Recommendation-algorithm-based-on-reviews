{
 "cells": [
  {
   "cell_type": "markdown",
   "id": "0889cf01-a510-4322-ab75-060814c26272",
   "metadata": {},
   "source": [
    "### 用来将csv文件制作成透视表"
   ]
  },
  {
   "cell_type": "code",
   "execution_count": 2,
   "id": "732a0bd6-69c3-41e7-9c94-3c3a1718b2cf",
   "metadata": {
    "tags": []
   },
   "outputs": [],
   "source": [
    "# 过滤csv的标签\n",
    "import pandas as pd\n",
    "\n",
    "# 指定你的CSV文件路径\n",
    "csv_file_path = 'bert_reduce_merged_file_title.csv'\n",
    "\n",
    "# 读取CSV文件\n",
    "df = pd.read_csv(csv_file_path, usecols=['user_id', 'bert_rating', 'title_without_series'])\n",
    "\n",
    "# 指定新CSV文件的保存路径\n",
    "new_csv_file_path = 'pivot_use.csv'\n",
    "\n",
    "# 导出DataFrame为CSV\n",
    "df.to_csv(new_csv_file_path, index=False)\n",
    "\n"
   ]
  },
  {
   "cell_type": "code",
   "execution_count": 2,
   "id": "c787b43f-ffac-403e-9899-52c8887726e3",
   "metadata": {
    "tags": []
   },
   "outputs": [
    {
     "name": "stdout",
     "output_type": "stream",
     "text": [
      "                            user_id                      title_without_series  \\\n",
      "0  cfa37f8ff40f4c05fe58462a0344aa27        Scarlet (The Lunar Chronicles, #2)   \n",
      "1  6a3a8c4abf9dc036d2a652fd364a4556                   New Moon (Twilight, #2)   \n",
      "2  3d7107325f0bd2bd27a34904aededac3         Winter (The Lunar Chronicles, #4)   \n",
      "3  e7a00ca7bc7dc46217540ffce134f573  Angelfall (Penryn & the End of Days, #1)   \n",
      "4  f05cc5cae2060dbb24fa88313b28783f                      Let the Right One In   \n",
      "\n",
      "   bert_rating  \n",
      "0            5  \n",
      "1            4  \n",
      "2            3  \n",
      "3            5  \n",
      "4            4  \n",
      "Total number of rows: 1141536\n"
     ]
    }
   ],
   "source": [
    "import pandas as pd\n",
    "\n",
    "# 替换为你的文件路径\n",
    "file_path = 'pivot_use.csv'\n",
    "\n",
    "# 使用pandas读取前几行\n",
    "df = pd.read_csv(file_path, nrows=5)  # 这里的5表示读取前5行，你可以根据需要调\n",
    "print(df)\n",
    "\n",
    "\n",
    "\n",
    "# 初始化计数器\n",
    "row_count = 0\n",
    "\n",
    "# 以块的方式读取文件\n",
    "for chunk in pd.read_csv(file_path, chunksize=10000):  # 这里的10000是每个块的大小，你可以根据需要和内存限制调整\n",
    "    row_count += len(chunk)\n",
    "\n",
    "print(f'Total number of rows: {row_count}')\n"
   ]
  },
  {
   "cell_type": "code",
   "execution_count": 1,
   "id": "420099d3-361b-4912-a58a-a262cdcd971e",
   "metadata": {
    "tags": []
   },
   "outputs": [],
   "source": [
    "# 创建csr矩阵做协同过滤\n",
    "import pandas as pd\n",
    "from scipy.sparse import csr_matrix\n",
    "\n",
    "# 替换为你的CSV文件路径\n",
    "file_path = 'pivot_use.csv'\n",
    "\n",
    "# 使用pandas读取CSV文件\n",
    "df = pd.read_csv(file_path)\n",
    "\n",
    "# 将用户ID和书名映射为整数索引\n",
    "df['user_id_idx'] = df['user_id'].astype('category').cat.codes\n",
    "df['book_title_idx'] = df['title_without_series'].astype('category').cat.codes\n",
    "\n",
    "# 确保所有索引都是非负的\n",
    "assert df['user_id_idx'].min() >= 0, \"user_id_idx contains negative values\"\n",
    "assert df['book_title_idx'].min() >= 0, \"book_title_idx contains negative values\"\n",
    "\n",
    "# 创建CSR矩阵\n",
    "ratings_csr = csr_matrix((df['bert_rating'], (df['user_id_idx'], df['book_title_idx'])), shape=(df['user_id_idx'].max() + 1, df['book_title_idx'].max() + 1))\n",
    "\n"
   ]
  },
  {
   "cell_type": "code",
   "execution_count": 2,
   "id": "8fbb2db0-2a75-4183-83b4-299ffc5a3593",
   "metadata": {
    "tags": []
   },
   "outputs": [
    {
     "data": {
      "text/plain": [
       "<174980x119868 sparse matrix of type '<class 'numpy.int64'>'\n",
       "\twith 1140550 stored elements in Compressed Sparse Row format>"
      ]
     },
     "execution_count": 2,
     "metadata": {},
     "output_type": "execute_result"
    }
   ],
   "source": [
    "ratings_csr"
   ]
  },
  {
   "cell_type": "code",
   "execution_count": 6,
   "id": "cb9a5b00-a2b9-4e5e-9b9d-6ba4481c9491",
   "metadata": {
    "tags": []
   },
   "outputs": [],
   "source": [
    "# # 建立csr_matrix\n",
    "# from scipy.sparse import csr_matrix\n",
    "# import pandas as pd\n",
    "\n",
    "# # 假设df是你的DataFrame\n",
    "\n",
    "# # 将用户ID和书名映射为整数索引\n",
    "# user_ids = pd.Series(df['user_id'].unique()).index.to_series().to_dict()\n",
    "# book_titles = pd.Series(df['title_without_series'].unique()).index.to_series().to_dict()\n",
    "\n",
    "# df['user_id_idx'] = df['user_id'].map(user_ids)\n",
    "# df['book_title_idx'] = df['title_without_series'].map(book_titles)\n",
    "\n",
    "# # 创建CSR矩阵\n",
    "# ratings_csr = csr_matrix((df['bert_rating'], (df['user_id_idx'], df['book_title_idx'])), shape=(len(user_ids), len(book_titles)))\n"
   ]
  },
  {
   "cell_type": "markdown",
   "id": "59d47d3a-2544-4b0b-89bf-3a995715657d",
   "metadata": {},
   "source": [
    "### 训练模型"
   ]
  },
  {
   "cell_type": "code",
   "execution_count": 7,
   "id": "a654e809-ea9c-4e82-adab-91a1b9d0b1a9",
   "metadata": {
    "tags": []
   },
   "outputs": [],
   "source": [
    "# ! pip install surprise\n"
   ]
  },
  {
   "cell_type": "code",
   "execution_count": 8,
   "id": "2f0844c8-b9ca-4732-96ad-9bec9deac7bd",
   "metadata": {
    "tags": []
   },
   "outputs": [],
   "source": [
    "# 爆内存\n",
    "# from surprise import Dataset, Reader\n",
    "# from surprise import KNNBasic\n",
    "# from surprise.model_selection import train_test_split\n",
    "# from surprise import accuracy\n",
    "# import pickle\n",
    "\n",
    "# # 为Surprise创建数据集\n",
    "# reader = Reader(rating_scale=(1, 5))  # 假设评分在1到5之间\n",
    "# data = Dataset.load_from_df(df[['user_id', 'title_without_series', 'bert_rating']], reader)\n",
    "\n",
    "# # 划分数据集为训练集和测试集\n",
    "# trainset, testset = train_test_split(data, test_size=0.25)\n",
    "\n",
    "# # 使用KNN算法\n",
    "# algo = KNNBasic()\n",
    "\n",
    "# # 训练模型\n",
    "# algo.fit(trainset)\n",
    "\n",
    "# # 在测试集上评估模型\n",
    "# predictions = algo.test(testset)\n",
    "# accuracy.rmse(predictions)\n",
    "\n",
    "# # 保存模型\n",
    "# file_name = 'collaborative_filtering_model.pkl'\n",
    "# with open(file_name, 'wb') as file:\n",
    "#     pickle.dump(algo, file)\n",
    "\n"
   ]
  },
  {
   "cell_type": "code",
   "execution_count": 9,
   "id": "20e15920-dd0b-4ef9-8016-c7ea1cba1732",
   "metadata": {
    "tags": []
   },
   "outputs": [],
   "source": [
    "# 还是不行\n",
    "# from surprise import SVD\n",
    "# from surprise.model_selection import train_test_split\n",
    "# from surprise import accuracy\n",
    "\n",
    "# # 使用SVD算法\n",
    "# algo = SVD()\n",
    "\n",
    "# # 划分数据集为训练集和测试集\n",
    "# trainset, testset = train_test_split(data, test_size=0.25)\n",
    "\n",
    "# # 训练模型\n",
    "# algo.fit(ratings_csr)\n",
    "\n",
    "# # 在测试集上评估模型\n",
    "# predictions = algo.test(testset)\n",
    "# print(f\"RMSE: {accuracy.rmse(predictions)}\")\n"
   ]
  },
  {
   "cell_type": "code",
   "execution_count": 6,
   "id": "c3fae0e1-3526-4690-8b79-d00e6e4877f8",
   "metadata": {
    "tags": []
   },
   "outputs": [
    {
     "name": "stdout",
     "output_type": "stream",
     "text": [
      "Recommended Indices: [100536  56074  49050 142207  16732  32003   6833  69627   2237  69767]\n",
      "Distances: [0.58040932 0.58040932 0.58462642 0.58462642 0.58462642 0.58462642\n",
      " 0.58462642 0.58462642 0.58462642 0.59371986]\n",
      "Recommended Book Titles:\n",
      "The Secret Horses of Briar Hill\n",
      "Madly, Deeply\n",
      "Kerjäläisprinsessa (Gigi ja Henry, #1)\n",
      "Unknown Book\n",
      "Chaos (Čísla, #2)\n",
      "Even Villains Have Interns (Heroes and Villains #3)\n",
      "Any Price\n",
      "Rainha das Trevas (Trilogia das Jóias Negras, #3)\n",
      "A Place Without Shadows (Deadlock Trilogy, #2)\n",
      "Rapunzel\n"
     ]
    }
   ],
   "source": [
    "# 验证可用性\n",
    "\n",
    "from sklearn.neighbors import NearestNeighbors\n",
    "\n",
    "# 初始化NearestNeighbors模型\n",
    "model_knn = NearestNeighbors(metric='cosine', algorithm='brute', n_neighbors=20, n_jobs=-1)\n",
    "\n",
    "# 训练模型\n",
    "model_knn.fit(ratings_csr)\n",
    "\n",
    "# 定义一个函数来为给定的user_id_idx进行推荐\n",
    "def recommend_for_user(user_id_idx, ratings_csr, model_knn, n_recommendations=10):\n",
    "    # 查询这个用户的k个最近邻居\n",
    "    distances, indices = model_knn.kneighbors(ratings_csr[user_id_idx], n_neighbors=n_recommendations+1)\n",
    "    \n",
    "    # 返回最近邻居的索引和距离\n",
    "    # 注意我们跳过第一个最近邻（即用户自己）\n",
    "    return indices[0][1:], distances[0][1:]\n",
    "\n",
    "# 假设我们要为user_id_idx=0的用户推荐书籍\n",
    "user_id_to_idx = pd.Series(df['user_id_idx'].values, index=df['user_id']).to_dict()\n",
    "user_id_str = '3d7107325f0bd2bd27a34904aededac3'\n",
    "user_id_idx = user_id_to_idx[user_id_str]  # 将用户ID字符串转换为整数索引\n",
    "\n",
    "indices, distances = recommend_for_user(user_id_idx, ratings_csr, model_knn)\n",
    "\n",
    "print(\"Recommended Indices:\", indices)\n",
    "print(\"Distances:\", distances)\n",
    "\n",
    "# 你可以使用indices来获取书籍的标题或ID，这取决于你如何将索引映射回你的数据\n",
    "\n",
    "# 将indices转为book_title\n",
    "book_idx_to_title = pd.Series(df['title_without_series'].values, index=df['book_title_idx'].values).to_dict()\n",
    "\n",
    "recommended_book_titles = [book_idx_to_title.get(idx, \"Unknown Book\") for idx in indices]\n",
    "\n",
    "print(\"Recommended Book Titles:\")\n",
    "for title in recommended_book_titles:\n",
    "    print(title)\n",
    "\n"
   ]
  },
  {
   "cell_type": "code",
   "execution_count": 5,
   "id": "3738d68d-6f64-472a-a456-73b2d6854935",
   "metadata": {
    "tags": []
   },
   "outputs": [
    {
     "name": "stdout",
     "output_type": "stream",
     "text": [
      "Looking in indexes: https://pypi.tuna.tsinghua.edu.cn/simple\n",
      "Collecting streamlit\n",
      "  Downloading https://pypi.tuna.tsinghua.edu.cn/packages/a9/56/b6879cab429dd9d907d624766e049ee286219751e3cd8611ebdf7fb66cc5/streamlit-1.32.1-py2.py3-none-any.whl (8.1 MB)\n",
      "\u001b[2K     \u001b[90m━━━━━━━━━━━━━━━━━━━━━━━━━━━━━━━━━━━━━━━━\u001b[0m \u001b[32m8.1/8.1 MB\u001b[0m \u001b[31m3.7 MB/s\u001b[0m eta \u001b[36m0:00:00\u001b[0m00:01\u001b[0m00:01\u001b[0m0m\n",
      "\u001b[?25hRequirement already satisfied: joblib in /root/miniconda3/envs/myconda/lib/python3.10/site-packages (1.3.2)\n",
      "Collecting altair<6,>=4.0 (from streamlit)\n",
      "  Downloading https://pypi.tuna.tsinghua.edu.cn/packages/c5/e4/7fcceef127badbb0d644d730d992410e4f3799b295c9964a172f92a469c7/altair-5.2.0-py3-none-any.whl (996 kB)\n",
      "\u001b[2K     \u001b[90m━━━━━━━━━━━━━━━━━━━━━━━━━━━━━━━━━━━━━━━\u001b[0m \u001b[32m996.9/996.9 kB\u001b[0m \u001b[31m2.6 MB/s\u001b[0m eta \u001b[36m0:00:00\u001b[0m00:01\u001b[0m00:01\u001b[0m\n",
      "\u001b[?25hCollecting blinker<2,>=1.0.0 (from streamlit)\n",
      "  Downloading https://pypi.tuna.tsinghua.edu.cn/packages/fa/2a/7f3714cbc6356a0efec525ce7a0613d581072ed6eb53eb7b9754f33db807/blinker-1.7.0-py3-none-any.whl (13 kB)\n",
      "Requirement already satisfied: cachetools<6,>=4.0 in /root/miniconda3/envs/myconda/lib/python3.10/site-packages (from streamlit) (5.3.1)\n",
      "Collecting click<9,>=7.0 (from streamlit)\n",
      "  Downloading https://pypi.tuna.tsinghua.edu.cn/packages/00/2e/d53fa4befbf2cfa713304affc7ca780ce4fc1fd8710527771b58311a3229/click-8.1.7-py3-none-any.whl (97 kB)\n",
      "\u001b[2K     \u001b[90m━━━━━━━━━━━━━━━━━━━━━━━━━━━━━━━━━━━━━━━\u001b[0m \u001b[32m97.9/97.9 kB\u001b[0m \u001b[31m824.4 kB/s\u001b[0m eta \u001b[36m0:00:00\u001b[0ma \u001b[36m0:00:01\u001b[0m\n",
      "\u001b[?25hRequirement already satisfied: numpy<2,>=1.19.3 in /root/miniconda3/envs/myconda/lib/python3.10/site-packages (from streamlit) (1.25.2)\n",
      "Requirement already satisfied: packaging<24,>=16.8 in /root/miniconda3/envs/myconda/lib/python3.10/site-packages (from streamlit) (23.1)\n",
      "Requirement already satisfied: pandas<3,>=1.3.0 in /root/miniconda3/envs/myconda/lib/python3.10/site-packages (from streamlit) (2.0.3)\n",
      "Requirement already satisfied: pillow<11,>=7.1.0 in /root/miniconda3/envs/myconda/lib/python3.10/site-packages (from streamlit) (10.0.0)\n",
      "Requirement already satisfied: protobuf<5,>=3.20 in /root/miniconda3/envs/myconda/lib/python3.10/site-packages (from streamlit) (4.24.1)\n",
      "Collecting pyarrow>=7.0 (from streamlit)\n",
      "  Downloading https://pypi.tuna.tsinghua.edu.cn/packages/e1/41/b0a9bf304d47c18cb4f14cf2f5431eeb4e2259cb74f6e866904f4eb783a5/pyarrow-15.0.1-cp310-cp310-manylinux_2_28_x86_64.whl (38.3 MB)\n",
      "\u001b[2K     \u001b[90m━━━━━━━━━━━━━━━━━━━━━━━━━━━━━━━━━━━━━━━━\u001b[0m \u001b[32m38.3/38.3 MB\u001b[0m \u001b[31m2.9 MB/s\u001b[0m eta \u001b[36m0:00:00\u001b[0m00:01\u001b[0m00:01\u001b[0mm\n",
      "\u001b[?25hRequirement already satisfied: requests<3,>=2.27 in /root/miniconda3/envs/myconda/lib/python3.10/site-packages (from streamlit) (2.31.0)\n",
      "Collecting rich<14,>=10.14.0 (from streamlit)\n",
      "  Downloading https://pypi.tuna.tsinghua.edu.cn/packages/87/67/a37f6214d0e9fe57f6ae54b2956d550ca8365857f42a1ce0392bb21d9410/rich-13.7.1-py3-none-any.whl (240 kB)\n",
      "\u001b[2K     \u001b[90m━━━━━━━━━━━━━━━━━━━━━━━━━━━━━━━━━━━━━\u001b[0m \u001b[32m240.7/240.7 kB\u001b[0m \u001b[31m251.9 kB/s\u001b[0m eta \u001b[36m0:00:00\u001b[0m00:01\u001b[0m00:01\u001b[0m\n",
      "\u001b[?25hRequirement already satisfied: tenacity<9,>=8.1.0 in /root/miniconda3/envs/myconda/lib/python3.10/site-packages (from streamlit) (8.2.3)\n",
      "Collecting toml<2,>=0.10.1 (from streamlit)\n",
      "  Downloading https://pypi.tuna.tsinghua.edu.cn/packages/44/6f/7120676b6d73228c96e17f1f794d8ab046fc910d781c8d151120c3f1569e/toml-0.10.2-py2.py3-none-any.whl (16 kB)\n",
      "Requirement already satisfied: typing-extensions<5,>=4.3.0 in /root/miniconda3/envs/myconda/lib/python3.10/site-packages (from streamlit) (4.7.1)\n",
      "Collecting gitpython!=3.1.19,<4,>=3.0.7 (from streamlit)\n",
      "  Downloading https://pypi.tuna.tsinghua.edu.cn/packages/67/c7/995360c87dd74e27539ccbfecddfb58e08f140d849fcd7f35d2ed1a5f80f/GitPython-3.1.42-py3-none-any.whl (195 kB)\n",
      "\u001b[2K     \u001b[90m━━━━━━━━━━━━━━━━━━━━━━━━━━━━━━━━━━━━━━━\u001b[0m \u001b[32m195.4/195.4 kB\u001b[0m \u001b[31m1.2 MB/s\u001b[0m eta \u001b[36m0:00:00\u001b[0ma \u001b[36m0:00:01\u001b[0m\n",
      "\u001b[?25hCollecting pydeck<1,>=0.8.0b4 (from streamlit)\n",
      "  Downloading https://pypi.tuna.tsinghua.edu.cn/packages/10/4b/2fc80540e2d3903452245bb657c7f758ec7342420507d1e4091b0161856e/pydeck-0.8.1b0-py2.py3-none-any.whl (4.8 MB)\n",
      "\u001b[2K     \u001b[90m━━━━━━━━━━━━━━━━━━━━━━━━━━━━━━━━━━━━━━━━\u001b[0m \u001b[32m4.8/4.8 MB\u001b[0m \u001b[31m3.1 MB/s\u001b[0m eta \u001b[36m0:00:00\u001b[0m00:01\u001b[0m00:01\u001b[0m\n",
      "\u001b[?25hRequirement already satisfied: tornado<7,>=6.0.3 in /root/miniconda3/envs/myconda/lib/python3.10/site-packages (from streamlit) (6.3.3)\n",
      "Collecting watchdog>=2.1.5 (from streamlit)\n",
      "  Downloading https://pypi.tuna.tsinghua.edu.cn/packages/91/7b/26d2f43aa9fe428416be21ee1cb9ac75638cf302466b7e706c14eeaea42c/watchdog-4.0.0-py3-none-manylinux2014_x86_64.whl (82 kB)\n",
      "\u001b[2K     \u001b[90m━━━━━━━━━━━━━━━━━━━━━━━━━━━━━━━━━━━━━━━\u001b[0m \u001b[32m83.0/83.0 kB\u001b[0m \u001b[31m968.0 kB/s\u001b[0m eta \u001b[36m0:00:00\u001b[0m0:01\u001b[0m00:01\u001b[0m\n",
      "\u001b[?25hRequirement already satisfied: jinja2 in /root/miniconda3/envs/myconda/lib/python3.10/site-packages (from altair<6,>=4.0->streamlit) (3.1.2)\n",
      "Collecting jsonschema>=3.0 (from altair<6,>=4.0->streamlit)\n",
      "  Downloading https://pypi.tuna.tsinghua.edu.cn/packages/39/9d/b035d024c62c85f2e2d4806a59ca7b8520307f34e0932fbc8cc75fe7b2d9/jsonschema-4.21.1-py3-none-any.whl (85 kB)\n",
      "\u001b[2K     \u001b[90m━━━━━━━━━━━━━━━━━━━━━━━━━━━━━━━━━━━━━━━\u001b[0m \u001b[32m85.5/85.5 kB\u001b[0m \u001b[31m609.9 kB/s\u001b[0m eta \u001b[36m0:00:00\u001b[0ma \u001b[36m0:00:01\u001b[0m\n",
      "\u001b[?25hCollecting toolz (from altair<6,>=4.0->streamlit)\n",
      "  Downloading https://pypi.tuna.tsinghua.edu.cn/packages/b7/8a/d82202c9f89eab30f9fc05380daae87d617e2ad11571ab23d7c13a29bb54/toolz-0.12.1-py3-none-any.whl (56 kB)\n",
      "\u001b[2K     \u001b[90m━━━━━━━━━━━━━━━━━━━━━━━━━━━━━━━━━━━━━━━\u001b[0m \u001b[32m56.1/56.1 kB\u001b[0m \u001b[31m566.0 kB/s\u001b[0m eta \u001b[36m0:00:00\u001b[0ma \u001b[36m0:00:01\u001b[0m\n",
      "\u001b[?25hCollecting gitdb<5,>=4.0.1 (from gitpython!=3.1.19,<4,>=3.0.7->streamlit)\n",
      "  Downloading https://pypi.tuna.tsinghua.edu.cn/packages/fd/5b/8f0c4a5bb9fd491c277c21eff7ccae71b47d43c4446c9d0c6cff2fe8c2c4/gitdb-4.0.11-py3-none-any.whl (62 kB)\n",
      "\u001b[2K     \u001b[90m━━━━━━━━━━━━━━━━━━━━━━━━━━━━━━━━━━━━━━━━\u001b[0m \u001b[32m62.7/62.7 kB\u001b[0m \u001b[31m1.0 MB/s\u001b[0m eta \u001b[36m0:00:00\u001b[0mta \u001b[36m0:00:01\u001b[0m\n",
      "\u001b[?25hRequirement already satisfied: python-dateutil>=2.8.2 in /root/miniconda3/envs/myconda/lib/python3.10/site-packages (from pandas<3,>=1.3.0->streamlit) (2.8.2)\n",
      "Requirement already satisfied: pytz>=2020.1 in /root/miniconda3/envs/myconda/lib/python3.10/site-packages (from pandas<3,>=1.3.0->streamlit) (2023.3)\n",
      "Requirement already satisfied: tzdata>=2022.1 in /root/miniconda3/envs/myconda/lib/python3.10/site-packages (from pandas<3,>=1.3.0->streamlit) (2023.3)\n",
      "Requirement already satisfied: charset-normalizer<4,>=2 in /root/miniconda3/envs/myconda/lib/python3.10/site-packages (from requests<3,>=2.27->streamlit) (3.2.0)\n",
      "Requirement already satisfied: idna<4,>=2.5 in /root/miniconda3/envs/myconda/lib/python3.10/site-packages (from requests<3,>=2.27->streamlit) (3.4)\n",
      "Requirement already satisfied: urllib3<3,>=1.21.1 in /root/miniconda3/envs/myconda/lib/python3.10/site-packages (from requests<3,>=2.27->streamlit) (1.26.16)\n",
      "Requirement already satisfied: certifi>=2017.4.17 in /root/miniconda3/envs/myconda/lib/python3.10/site-packages (from requests<3,>=2.27->streamlit) (2023.7.22)\n",
      "Collecting markdown-it-py>=2.2.0 (from rich<14,>=10.14.0->streamlit)\n",
      "  Downloading https://pypi.tuna.tsinghua.edu.cn/packages/42/d7/1ec15b46af6af88f19b8e5ffea08fa375d433c998b8a7639e76935c14f1f/markdown_it_py-3.0.0-py3-none-any.whl (87 kB)\n",
      "\u001b[2K     \u001b[90m━━━━━━━━━━━━━━━━━━━━━━━━━━━━━━━━━━━━━━━━\u001b[0m \u001b[32m87.5/87.5 kB\u001b[0m \u001b[31m5.9 MB/s\u001b[0m eta \u001b[36m0:00:00\u001b[0m\n",
      "\u001b[?25hRequirement already satisfied: pygments<3.0.0,>=2.13.0 in /root/miniconda3/envs/myconda/lib/python3.10/site-packages (from rich<14,>=10.14.0->streamlit) (2.16.1)\n",
      "Collecting smmap<6,>=3.0.1 (from gitdb<5,>=4.0.1->gitpython!=3.1.19,<4,>=3.0.7->streamlit)\n",
      "  Downloading https://pypi.tuna.tsinghua.edu.cn/packages/a7/a5/10f97f73544edcdef54409f1d839f6049a0d79df68adbc1ceb24d1aaca42/smmap-5.0.1-py3-none-any.whl (24 kB)\n",
      "Requirement already satisfied: MarkupSafe>=2.0 in /root/miniconda3/envs/myconda/lib/python3.10/site-packages (from jinja2->altair<6,>=4.0->streamlit) (2.1.3)\n",
      "Collecting attrs>=22.2.0 (from jsonschema>=3.0->altair<6,>=4.0->streamlit)\n",
      "  Downloading https://pypi.tuna.tsinghua.edu.cn/packages/e0/44/827b2a91a5816512fcaf3cc4ebc465ccd5d598c45cefa6703fcf4a79018f/attrs-23.2.0-py3-none-any.whl (60 kB)\n",
      "\u001b[2K     \u001b[90m━━━━━━━━━━━━━━━━━━━━━━━━━━━━━━━━━━━━━━━\u001b[0m \u001b[32m60.8/60.8 kB\u001b[0m \u001b[31m603.2 kB/s\u001b[0m eta \u001b[36m0:00:00\u001b[0ma \u001b[36m0:00:01\u001b[0m\n",
      "\u001b[?25hCollecting jsonschema-specifications>=2023.03.6 (from jsonschema>=3.0->altair<6,>=4.0->streamlit)\n",
      "  Downloading https://pypi.tuna.tsinghua.edu.cn/packages/ee/07/44bd408781594c4d0a027666ef27fab1e441b109dc3b76b4f836f8fd04fe/jsonschema_specifications-2023.12.1-py3-none-any.whl (18 kB)\n",
      "Collecting referencing>=0.28.4 (from jsonschema>=3.0->altair<6,>=4.0->streamlit)\n",
      "  Downloading https://pypi.tuna.tsinghua.edu.cn/packages/90/10/1c92edb0a0a14b67ff825bc338e74bc49ab27d3f3bae3f9a02838cba546f/referencing-0.33.0-py3-none-any.whl (26 kB)\n",
      "Collecting rpds-py>=0.7.1 (from jsonschema>=3.0->altair<6,>=4.0->streamlit)\n",
      "  Downloading https://pypi.tuna.tsinghua.edu.cn/packages/15/f5/769fc90b3af55e6288ce683539ffd68b93dbdf1a5d86050f063828e5911e/rpds_py-0.18.0-cp310-cp310-manylinux_2_17_x86_64.manylinux2014_x86_64.whl (1.1 MB)\n",
      "\u001b[2K     \u001b[90m━━━━━━━━━━━━━━━━━━━━━━━━━━━━━━━━━━━━━━━━\u001b[0m \u001b[32m1.1/1.1 MB\u001b[0m \u001b[31m536.8 kB/s\u001b[0m eta \u001b[36m0:00:00\u001b[0m00:01\u001b[0m00:01\u001b[0m\n",
      "\u001b[?25hCollecting mdurl~=0.1 (from markdown-it-py>=2.2.0->rich<14,>=10.14.0->streamlit)\n",
      "  Downloading https://pypi.tuna.tsinghua.edu.cn/packages/b3/38/89ba8ad64ae25be8de66a6d463314cf1eb366222074cfda9ee839c56a4b4/mdurl-0.1.2-py3-none-any.whl (10.0 kB)\n",
      "Requirement already satisfied: six>=1.5 in /root/miniconda3/envs/myconda/lib/python3.10/site-packages (from python-dateutil>=2.8.2->pandas<3,>=1.3.0->streamlit) (1.16.0)\n",
      "Installing collected packages: watchdog, toolz, toml, smmap, rpds-py, pyarrow, mdurl, click, blinker, attrs, referencing, pydeck, markdown-it-py, gitdb, rich, jsonschema-specifications, gitpython, jsonschema, altair, streamlit\n",
      "Successfully installed altair-5.2.0 attrs-23.2.0 blinker-1.7.0 click-8.1.7 gitdb-4.0.11 gitpython-3.1.42 jsonschema-4.21.1 jsonschema-specifications-2023.12.1 markdown-it-py-3.0.0 mdurl-0.1.2 pyarrow-15.0.1 pydeck-0.8.1b0 referencing-0.33.0 rich-13.7.1 rpds-py-0.18.0 smmap-5.0.1 streamlit-1.32.1 toml-0.10.2 toolz-0.12.1 watchdog-4.0.0\n",
      "\u001b[33mWARNING: Running pip as the 'root' user can result in broken permissions and conflicting behaviour with the system package manager. It is recommended to use a virtual environment instead: https://pip.pypa.io/warnings/venv\u001b[0m\u001b[33m\n",
      "\u001b[0m"
     ]
    }
   ],
   "source": [
    "! pip install streamlit joblib"
   ]
  },
  {
   "cell_type": "code",
   "execution_count": 7,
   "id": "b6ed9c6c-1cc7-4894-92fa-ce32aca15862",
   "metadata": {
    "tags": []
   },
   "outputs": [
    {
     "data": {
      "text/plain": [
       "['book_idx_to_title.pkl']"
      ]
     },
     "execution_count": 7,
     "metadata": {},
     "output_type": "execute_result"
    }
   ],
   "source": [
    "# 训练模型\n",
    "import joblib\n",
    "\n",
    "# 保存模型\n",
    "joblib.dump(model_knn, 'model_knn.pkl')\n",
    "\n",
    "# 保存用户ID到索引的映射\n",
    "joblib.dump(user_id_to_idx, 'user_id_to_idx.pkl')\n",
    "\n",
    "# 保存书籍索引到书名的映射\n",
    "joblib.dump(book_idx_to_title, 'book_idx_to_title.pkl')\n",
    "\n"
   ]
  },
  {
   "cell_type": "code",
   "execution_count": 1,
   "id": "6d16f028-21e2-41d8-8b63-966c06888c40",
   "metadata": {
    "tags": []
   },
   "outputs": [
    {
     "ename": "ModuleNotFoundError",
     "evalue": "No module named 'streamlit'",
     "output_type": "error",
     "traceback": [
      "\u001b[0;31m---------------------------------------------------------------------------\u001b[0m",
      "\u001b[0;31mModuleNotFoundError\u001b[0m                       Traceback (most recent call last)",
      "\u001b[0;32m/var/folders/63/2vwcy5px7rgdl69n2zn03nhc0000gn/T/ipykernel_69098/2883514584.py\u001b[0m in \u001b[0;36m<module>\u001b[0;34m\u001b[0m\n\u001b[0;32m----> 1\u001b[0;31m \u001b[0;32mimport\u001b[0m \u001b[0mstreamlit\u001b[0m \u001b[0;32mas\u001b[0m \u001b[0mst\u001b[0m\u001b[0;34m\u001b[0m\u001b[0;34m\u001b[0m\u001b[0m\n\u001b[0m\u001b[1;32m      2\u001b[0m \u001b[0;32mimport\u001b[0m \u001b[0mjoblib\u001b[0m\u001b[0;34m\u001b[0m\u001b[0;34m\u001b[0m\u001b[0m\n\u001b[1;32m      3\u001b[0m \u001b[0;34m\u001b[0m\u001b[0m\n\u001b[1;32m      4\u001b[0m \u001b[0;31m# 加载模型和映射\u001b[0m\u001b[0;34m\u001b[0m\u001b[0;34m\u001b[0m\u001b[0m\n\u001b[1;32m      5\u001b[0m \u001b[0mmodel_knn\u001b[0m \u001b[0;34m=\u001b[0m \u001b[0mjoblib\u001b[0m\u001b[0;34m.\u001b[0m\u001b[0mload\u001b[0m\u001b[0;34m(\u001b[0m\u001b[0;34m'model_knn.pkl'\u001b[0m\u001b[0;34m)\u001b[0m\u001b[0;34m\u001b[0m\u001b[0;34m\u001b[0m\u001b[0m\n",
      "\u001b[0;31mModuleNotFoundError\u001b[0m: No module named 'streamlit'"
     ]
    }
   ],
   "source": [
    "import streamlit as st\n",
    "import joblib\n",
    "\n",
    "# 加载模型和映射\n",
    "model_knn = joblib.load('model_knn.pkl')\n",
    "user_id_to_idx = joblib.load('user_id_to_idx.pkl')\n",
    "book_idx_to_title = joblib.load('book_idx_to_title.pkl')\n",
    "\n",
    "# Streamlit界面代码\n",
    "st.title('书籍推荐系统')\n",
    "\n",
    "# 假设ratings_csr也需要被加载或在这里以某种方式被构建\n",
    "\n",
    "user_id_input = st.text_input('请输入您的用户ID:', '')\n",
    "\n",
    "if user_id_input:\n",
    "    user_id_idx = user_id_to_idx.get(user_id_input, None)\n",
    "    if user_id_idx is not None:\n",
    "        indices, distances = recommend_for_user(user_id_idx, ratings_csr, model_knn)\n",
    "        recommended_books = [book_idx_to_title.get(idx, \"Unknown Book\") for idx in indices]\n",
    "        st.write('为您推荐的书籍:')\n",
    "        for book in recommended_books:\n",
    "            st.write(book)\n",
    "    else:\n",
    "        st.write(\"未找到用户ID，请确保输入正确。\")\n",
    "\n"
   ]
  },
  {
   "cell_type": "code",
   "execution_count": 2,
   "id": "a32ba4d5-a4f9-494c-96dc-8e7b2a906eac",
   "metadata": {
    "tags": []
   },
   "outputs": [
    {
     "name": "stdout",
     "output_type": "stream",
     "text": [
      "Defaulting to user installation because normal site-packages is not writeable\n",
      "Looking in indexes: https://pypi.tuna.tsinghua.edu.cn/simple\n",
      "Requirement already satisfied: streamlit in /Users/zeyu/Library/Python/3.9/lib/python/site-packages (1.31.1)\n",
      "Requirement already satisfied: altair<6,>=4.0 in /Users/zeyu/Library/Python/3.9/lib/python/site-packages (from streamlit) (5.2.0)\n",
      "Requirement already satisfied: blinker<2,>=1.0.0 in /Users/zeyu/Library/Python/3.9/lib/python/site-packages (from streamlit) (1.7.0)\n",
      "Requirement already satisfied: cachetools<6,>=4.0 in /Users/zeyu/Library/Python/3.9/lib/python/site-packages (from streamlit) (5.3.2)\n",
      "Requirement already satisfied: click<9,>=7.0 in /Users/zeyu/Library/Python/3.9/lib/python/site-packages (from streamlit) (8.1.7)\n",
      "Requirement already satisfied: importlib-metadata<8,>=1.4 in /Users/zeyu/Library/Python/3.9/lib/python/site-packages (from streamlit) (5.0.0)\n",
      "Requirement already satisfied: numpy<2,>=1.19.3 in /Users/zeyu/Library/Python/3.9/lib/python/site-packages (from streamlit) (1.26.4)\n",
      "Collecting packaging<24,>=16.8 (from streamlit)\n",
      "  Using cached https://pypi.tuna.tsinghua.edu.cn/packages/ec/1a/610693ac4ee14fcdf2d9bf3c493370e4f2ef7ae2e19217d7a237ff42367d/packaging-23.2-py3-none-any.whl (53 kB)\n",
      "Requirement already satisfied: pandas<3,>=1.3.0 in /Users/zeyu/Library/Python/3.9/lib/python/site-packages (from streamlit) (2.1.4)\n",
      "Requirement already satisfied: pillow<11,>=7.1.0 in /Users/zeyu/Library/Python/3.9/lib/python/site-packages (from streamlit) (10.2.0)\n",
      "Requirement already satisfied: protobuf<5,>=3.20 in /Users/zeyu/Library/Python/3.9/lib/python/site-packages (from streamlit) (4.23.4)\n",
      "Requirement already satisfied: pyarrow>=7.0 in /Users/zeyu/Library/Python/3.9/lib/python/site-packages (from streamlit) (15.0.0)\n",
      "Requirement already satisfied: python-dateutil<3,>=2.7.3 in /Users/zeyu/Library/Python/3.9/lib/python/site-packages (from streamlit) (2.8.2)\n",
      "Requirement already satisfied: requests<3,>=2.27 in /Users/zeyu/Library/Python/3.9/lib/python/site-packages (from streamlit) (2.31.0)\n",
      "Requirement already satisfied: rich<14,>=10.14.0 in /Users/zeyu/Library/Python/3.9/lib/python/site-packages (from streamlit) (13.7.1)\n",
      "Requirement already satisfied: tenacity<9,>=8.1.0 in /Users/zeyu/Library/Python/3.9/lib/python/site-packages (from streamlit) (8.2.3)\n",
      "Requirement already satisfied: toml<2,>=0.10.1 in /Users/zeyu/Library/Python/3.9/lib/python/site-packages (from streamlit) (0.10.2)\n",
      "Requirement already satisfied: typing-extensions<5,>=4.3.0 in /Users/zeyu/Library/Python/3.9/lib/python/site-packages (from streamlit) (4.10.0)\n",
      "Requirement already satisfied: tzlocal<6,>=1.1 in /Users/zeyu/Library/Python/3.9/lib/python/site-packages (from streamlit) (5.2)\n",
      "Requirement already satisfied: validators<1,>=0.2 in /Users/zeyu/Library/Python/3.9/lib/python/site-packages (from streamlit) (0.22.0)\n",
      "Requirement already satisfied: gitpython!=3.1.19,<4,>=3.0.7 in /Users/zeyu/Library/Python/3.9/lib/python/site-packages (from streamlit) (3.1.42)\n",
      "Requirement already satisfied: pydeck<1,>=0.8.0b4 in /Users/zeyu/Library/Python/3.9/lib/python/site-packages (from streamlit) (0.8.1b0)\n",
      "Requirement already satisfied: tornado<7,>=6.0.3 in /Users/zeyu/Library/Python/3.9/lib/python/site-packages (from streamlit) (6.2)\n",
      "Requirement already satisfied: jinja2 in /Users/zeyu/Library/Python/3.9/lib/python/site-packages (from altair<6,>=4.0->streamlit) (3.1.2)\n",
      "Requirement already satisfied: jsonschema>=3.0 in /Users/zeyu/Library/Python/3.9/lib/python/site-packages (from altair<6,>=4.0->streamlit) (4.17.0)\n",
      "Requirement already satisfied: toolz in /Users/zeyu/Library/Python/3.9/lib/python/site-packages (from altair<6,>=4.0->streamlit) (0.12.1)\n",
      "Requirement already satisfied: gitdb<5,>=4.0.1 in /Users/zeyu/Library/Python/3.9/lib/python/site-packages (from gitpython!=3.1.19,<4,>=3.0.7->streamlit) (4.0.11)\n",
      "Requirement already satisfied: zipp>=0.5 in /Users/zeyu/Library/Python/3.9/lib/python/site-packages (from importlib-metadata<8,>=1.4->streamlit) (3.10.0)\n",
      "Requirement already satisfied: pytz>=2020.1 in /Users/zeyu/Library/Python/3.9/lib/python/site-packages (from pandas<3,>=1.3.0->streamlit) (2023.3.post1)\n",
      "Requirement already satisfied: tzdata>=2022.1 in /Users/zeyu/Library/Python/3.9/lib/python/site-packages (from pandas<3,>=1.3.0->streamlit) (2023.4)\n",
      "Requirement already satisfied: six>=1.5 in /Users/zeyu/Library/Python/3.9/lib/python/site-packages (from python-dateutil<3,>=2.7.3->streamlit) (1.16.0)\n",
      "Requirement already satisfied: charset-normalizer<4,>=2 in /Users/zeyu/Library/Python/3.9/lib/python/site-packages (from requests<3,>=2.27->streamlit) (3.3.2)\n",
      "Requirement already satisfied: idna<4,>=2.5 in /Users/zeyu/Library/Python/3.9/lib/python/site-packages (from requests<3,>=2.27->streamlit) (3.6)\n",
      "Requirement already satisfied: urllib3<3,>=1.21.1 in /Users/zeyu/Library/Python/3.9/lib/python/site-packages (from requests<3,>=2.27->streamlit) (2.2.1)\n",
      "Requirement already satisfied: certifi>=2017.4.17 in /Users/zeyu/Library/Python/3.9/lib/python/site-packages (from requests<3,>=2.27->streamlit) (2024.2.2)\n",
      "Requirement already satisfied: markdown-it-py>=2.2.0 in /Users/zeyu/Library/Python/3.9/lib/python/site-packages (from rich<14,>=10.14.0->streamlit) (3.0.0)\n",
      "Requirement already satisfied: pygments<3.0.0,>=2.13.0 in /Users/zeyu/Library/Python/3.9/lib/python/site-packages (from rich<14,>=10.14.0->streamlit) (2.13.0)\n",
      "Requirement already satisfied: smmap<6,>=3.0.1 in /Users/zeyu/Library/Python/3.9/lib/python/site-packages (from gitdb<5,>=4.0.1->gitpython!=3.1.19,<4,>=3.0.7->streamlit) (5.0.1)\n",
      "Requirement already satisfied: MarkupSafe>=2.0 in /Users/zeyu/Library/Python/3.9/lib/python/site-packages (from jinja2->altair<6,>=4.0->streamlit) (2.1.1)\n",
      "Requirement already satisfied: attrs>=17.4.0 in /Users/zeyu/Library/Python/3.9/lib/python/site-packages (from jsonschema>=3.0->altair<6,>=4.0->streamlit) (22.1.0)\n",
      "Requirement already satisfied: pyrsistent!=0.17.0,!=0.17.1,!=0.17.2,>=0.14.0 in /Users/zeyu/Library/Python/3.9/lib/python/site-packages (from jsonschema>=3.0->altair<6,>=4.0->streamlit) (0.19.2)\n",
      "Requirement already satisfied: mdurl~=0.1 in /Users/zeyu/Library/Python/3.9/lib/python/site-packages (from markdown-it-py>=2.2.0->rich<14,>=10.14.0->streamlit) (0.1.2)\n",
      "Installing collected packages: packaging\n",
      "  Attempting uninstall: packaging\n",
      "    Found existing installation: packaging 24.0\n",
      "    Uninstalling packaging-24.0:\n",
      "      Successfully uninstalled packaging-24.0\n",
      "Successfully installed packaging-23.2\n"
     ]
    }
   ],
   "source": [
    "! pip install streamlit"
   ]
  },
  {
   "cell_type": "code",
   "execution_count": 3,
   "id": "81adb81b-741f-4793-83be-dbe9c3c23cf2",
   "metadata": {},
   "outputs": [
    {
     "name": "stdout",
     "output_type": "stream",
     "text": [
      "zsh:1: command not found: python\r\n"
     ]
    }
   ],
   "source": [
    "! python --version"
   ]
  },
  {
   "cell_type": "code",
   "execution_count": null,
   "id": "fd107ba8",
   "metadata": {},
   "outputs": [],
   "source": []
  }
 ],
 "metadata": {
  "kernelspec": {
   "display_name": "Python 3 (ipykernel)",
   "language": "python",
   "name": "python3"
  },
  "language_info": {
   "codemirror_mode": {
    "name": "ipython",
    "version": 3
   },
   "file_extension": ".py",
   "mimetype": "text/x-python",
   "name": "python",
   "nbconvert_exporter": "python",
   "pygments_lexer": "ipython3",
   "version": "3.9.13"
  }
 },
 "nbformat": 4,
 "nbformat_minor": 5
}
