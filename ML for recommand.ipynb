{
 "cells": [
  {
   "cell_type": "markdown",
   "metadata": {},
   "source": [
    "# 使用机器学习的书本推荐系统"
   ]
  },
  {
   "cell_type": "code",
   "execution_count": 8,
   "metadata": {},
   "outputs": [
    {
     "data": {
      "text/html": [
       "<div>\n",
       "<style scoped>\n",
       "    .dataframe tbody tr th:only-of-type {\n",
       "        vertical-align: middle;\n",
       "    }\n",
       "\n",
       "    .dataframe tbody tr th {\n",
       "        vertical-align: top;\n",
       "    }\n",
       "\n",
       "    .dataframe thead th {\n",
       "        text-align: right;\n",
       "    }\n",
       "</style>\n",
       "<table border=\"1\" class=\"dataframe\">\n",
       "  <thead>\n",
       "    <tr style=\"text-align: right;\">\n",
       "      <th></th>\n",
       "      <th>user_id</th>\n",
       "      <th>title_without_series</th>\n",
       "      <th>bert_rating</th>\n",
       "    </tr>\n",
       "  </thead>\n",
       "  <tbody>\n",
       "    <tr>\n",
       "      <th>0</th>\n",
       "      <td>cfa37f8ff40f4c05fe58462a0344aa27</td>\n",
       "      <td>Scarlet (The Lunar Chronicles, #2)</td>\n",
       "      <td>5</td>\n",
       "    </tr>\n",
       "    <tr>\n",
       "      <th>1</th>\n",
       "      <td>6a3a8c4abf9dc036d2a652fd364a4556</td>\n",
       "      <td>New Moon (Twilight, #2)</td>\n",
       "      <td>4</td>\n",
       "    </tr>\n",
       "    <tr>\n",
       "      <th>2</th>\n",
       "      <td>3d7107325f0bd2bd27a34904aededac3</td>\n",
       "      <td>Winter (The Lunar Chronicles, #4)</td>\n",
       "      <td>3</td>\n",
       "    </tr>\n",
       "    <tr>\n",
       "      <th>3</th>\n",
       "      <td>e7a00ca7bc7dc46217540ffce134f573</td>\n",
       "      <td>Angelfall (Penryn &amp; the End of Days, #1)</td>\n",
       "      <td>5</td>\n",
       "    </tr>\n",
       "    <tr>\n",
       "      <th>4</th>\n",
       "      <td>f05cc5cae2060dbb24fa88313b28783f</td>\n",
       "      <td>Let the Right One In</td>\n",
       "      <td>4</td>\n",
       "    </tr>\n",
       "  </tbody>\n",
       "</table>\n",
       "</div>"
      ],
      "text/plain": [
       "                            user_id                      title_without_series  \\\n",
       "0  cfa37f8ff40f4c05fe58462a0344aa27        Scarlet (The Lunar Chronicles, #2)   \n",
       "1  6a3a8c4abf9dc036d2a652fd364a4556                   New Moon (Twilight, #2)   \n",
       "2  3d7107325f0bd2bd27a34904aededac3         Winter (The Lunar Chronicles, #4)   \n",
       "3  e7a00ca7bc7dc46217540ffce134f573  Angelfall (Penryn & the End of Days, #1)   \n",
       "4  f05cc5cae2060dbb24fa88313b28783f                      Let the Right One In   \n",
       "\n",
       "   bert_rating  \n",
       "0            5  \n",
       "1            4  \n",
       "2            3  \n",
       "3            5  \n",
       "4            4  "
      ]
     },
     "execution_count": 8,
     "metadata": {},
     "output_type": "execute_result"
    }
   ],
   "source": [
    "import pandas as pd\n",
    "\n",
    "# 加载数据集\n",
    "data_path = 'pivot_use.csv'\n",
    "data = pd.read_csv(data_path)\n",
    "\n",
    "# 显示数据的前几行以了解其结构\n",
    "data.head()\n"
   ]
  },
  {
   "cell_type": "markdown",
   "metadata": {},
   "source": [
    "数据预处理：\n",
    "将user_id和title_without_series转换为整数索引。\n",
    "分割数据集为训练集和测试集。\n",
    "\n",
    "模型架构：\n",
    "用户嵌入层：学习用户的嵌入表示。\n",
    "书籍嵌入层：学习书籍的嵌入表示。\n",
    "合并层：将用户和书籍的嵌入表示合并。\n",
    "全连接层：对合并后的嵌入进行处理，预测评分。\n",
    "\n",
    "训练模型：\n",
    "使用均方误差（MSE）作为损失函数。\n",
    "选择适合的优化器，例如Adam。\n",
    "\n",
    "评估和推荐：\n",
    "评估模型在测试集上的性能。\n",
    "对于给定的user_id，模型预测该用户对所有书籍的评分，然后选择评分最高的几本书作为推荐。"
   ]
  },
  {
   "cell_type": "code",
   "execution_count": 9,
   "metadata": {},
   "outputs": [
    {
     "data": {
      "text/plain": [
       "(228308, 5)"
      ]
     },
     "execution_count": 9,
     "metadata": {},
     "output_type": "execute_result"
    }
   ],
   "source": [
    "# 数据预处理\n",
    "from sklearn.model_selection import train_test_split\n",
    "from sklearn.preprocessing import LabelEncoder\n",
    "\n",
    "# 初始化标签编码器\n",
    "user_le = LabelEncoder()\n",
    "item_le = LabelEncoder()\n",
    "\n",
    "# 对user_id和title_without_series进行编码\n",
    "data['user_id_enc'] = user_le.fit_transform(data['user_id'])\n",
    "data['title_enc'] = item_le.fit_transform(data['title_without_series'])\n",
    "\n",
    "# 分割数据集为训练集和测试集\n",
    "train, test = train_test_split(data, test_size=0.2, random_state=42)\n",
    "\n",
    "# 查看处理后的数据集和分割结果\n",
    "train.head(), \n",
    "train.shape, \n",
    "test.shape\n"
   ]
  },
  {
   "cell_type": "code",
   "execution_count": 12,
   "metadata": {},
   "outputs": [
    {
     "name": "stdout",
     "output_type": "stream",
     "text": [
      "Model: \"model_2\"\n",
      "__________________________________________________________________________________________________\n",
      "Layer (type)                    Output Shape         Param #     Connected to                     \n",
      "==================================================================================================\n",
      "user_input (InputLayer)         [(None, 1)]          0                                            \n",
      "__________________________________________________________________________________________________\n",
      "item_input (InputLayer)         [(None, 1)]          0                                            \n",
      "__________________________________________________________________________________________________\n",
      "user_embedding (Embedding)      (None, 1, 8)         1399840     user_input[0][0]                 \n",
      "__________________________________________________________________________________________________\n",
      "item_embedding (Embedding)      (None, 1, 8)         958944      item_input[0][0]                 \n",
      "__________________________________________________________________________________________________\n",
      "user_flatten (Flatten)          (None, 8)            0           user_embedding[0][0]             \n",
      "__________________________________________________________________________________________________\n",
      "item_flatten (Flatten)          (None, 8)            0           item_embedding[0][0]             \n",
      "__________________________________________________________________________________________________\n",
      "concatenate_2 (Concatenate)     (None, 16)           0           user_flatten[0][0]               \n",
      "                                                                 item_flatten[0][0]               \n",
      "__________________________________________________________________________________________________\n",
      "dense_6 (Dense)                 (None, 128)          2176        concatenate_2[0][0]              \n",
      "__________________________________________________________________________________________________\n",
      "dense_7 (Dense)                 (None, 64)           8256        dense_6[0][0]                    \n",
      "__________________________________________________________________________________________________\n",
      "dense_8 (Dense)                 (None, 1)            65          dense_7[0][0]                    \n",
      "==================================================================================================\n",
      "Total params: 2,369,281\n",
      "Trainable params: 2,369,281\n",
      "Non-trainable params: 0\n",
      "__________________________________________________________________________________________________\n"
     ]
    }
   ],
   "source": [
    "from tensorflow.keras.models import Model\n",
    "from tensorflow.keras.layers import Input, Embedding, Flatten, Concatenate, Dense\n",
    "from tensorflow.keras.optimizers import Adam\n",
    "\n",
    "# 确定嵌入向量的大小\n",
    "embedding_size = 8\n",
    "\n",
    "# 用户嵌入模型\n",
    "user_input = Input(shape=(1,), name='user_input')\n",
    "# 注意这里使用了总的唯一用户数174980\n",
    "user_embedding = Embedding(input_dim=174980, output_dim=embedding_size, name='user_embedding')(user_input)\n",
    "user_vec = Flatten(name='user_flatten')(user_embedding)\n",
    "\n",
    "# 书籍嵌入模型\n",
    "item_input = Input(shape=(1,), name='item_input')\n",
    "# 注意这里使用了总的唯一书籍数119868\n",
    "item_embedding = Embedding(input_dim=119868, output_dim=embedding_size, name='item_embedding')(item_input)\n",
    "item_vec = Flatten(name='item_flatten')(item_embedding)\n",
    "\n",
    "# 合并两个嵌入向量\n",
    "merged = Concatenate()([user_vec, item_vec])\n",
    "\n",
    "# 全连接层\n",
    "dense = Dense(128, activation='relu')(merged)\n",
    "dense = Dense(64, activation='relu')(dense)\n",
    "output = Dense(1)(dense)\n",
    "\n",
    "# 定义和编译模型\n",
    "model = Model(inputs=[user_input, item_input], outputs=output)\n",
    "model.compile(optimizer=Adam(0.001), loss='mean_squared_error')\n",
    "\n",
    "# 查看模型概览\n",
    "model.summary()\n",
    "\n"
   ]
  },
  {
   "cell_type": "code",
   "execution_count": 13,
   "metadata": {},
   "outputs": [
    {
     "name": "stdout",
     "output_type": "stream",
     "text": [
      "['The Knight of Disks (Villainess Book 4)' 'Where The Dead Ones Play'\n",
      " 'Albino' 'Fanning the Flames (Going Down in Flames, #4)'\n",
      " 'Everblue (Mer Tales #1)' 'The First Moon (The Pack Claims a Mate #2)'\n",
      " 'Secret Of The Rose (Legacy Of Magick, #2)' 'Drácula, el no muerto'\n",
      " 'Tsubasa RESERVoir CHRoNiCLE, Volume 21 (Tsubasa Reservoir Chronicle, #21)'\n",
      " 'The House on Blackstone Moor (The Blackstone Vampires, #1)']\n"
     ]
    }
   ],
   "source": [
    "# 为所有书籍生成给定用户的评分预测\n",
    "import pandas\n",
    "\n",
    "def make_prediction(user_id):\n",
    "    user_idx = user_le.transform([user_id]) # 转换用户ID\n",
    "    item_idxs = np.array(range(data['title_enc'].nunique())) # 所有书籍的索引\n",
    "    user_idxs = np.array([user_idx] * len(item_idxs))\n",
    "    predictions = model.predict([user_idxs, item_idxs])\n",
    "    top_items = predictions.flatten().argsort()[-10:][::-1] # 获取最高评分的10本书\n",
    "    return item_le.inverse_transform(top_items) # 转换回书籍标题\n",
    "\n",
    "# 示例：为特定用户生成推荐\n",
    "user_id = '6a3a8c4abf9dc036d2a652fd364a4556'\n",
    "recommended_titles = make_prediction(user_id)\n",
    "print(recommended_titles)\n"
   ]
  },
  {
   "cell_type": "code",
   "execution_count": 7,
   "metadata": {},
   "outputs": [
    {
     "data": {
      "text/plain": [
       "(174980, 119868)"
      ]
     },
     "execution_count": 7,
     "metadata": {},
     "output_type": "execute_result"
    }
   ],
   "source": []
  },
  {
   "cell_type": "code",
   "execution_count": null,
   "metadata": {},
   "outputs": [],
   "source": []
  }
 ],
 "metadata": {
  "kernelspec": {
   "display_name": "myconda",
   "language": "python",
   "name": "myconda"
  },
  "language_info": {
   "codemirror_mode": {
    "name": "ipython",
    "version": 3
   },
   "file_extension": ".py",
   "mimetype": "text/x-python",
   "name": "python",
   "nbconvert_exporter": "python",
   "pygments_lexer": "ipython3",
   "version": "3.8.5"
  }
 },
 "nbformat": 4,
 "nbformat_minor": 5
}
