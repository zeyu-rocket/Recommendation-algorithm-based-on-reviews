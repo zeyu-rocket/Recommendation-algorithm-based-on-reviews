{
 "cells": [
  {
   "cell_type": "markdown",
   "id": "93bb3650-d4b2-481b-a6f2-8d396cf7b43e",
   "metadata": {},
   "source": [
    "# 使用机器学习的书本推荐系统"
   ]
  },
  {
   "cell_type": "code",
   "execution_count": 2,
   "id": "8e90f7b7-afb8-42d2-91bd-22b05dd9a24e",
   "metadata": {},
   "outputs": [
    {
     "data": {
      "text/html": [
       "<div>\n",
       "<style scoped>\n",
       "    .dataframe tbody tr th:only-of-type {\n",
       "        vertical-align: middle;\n",
       "    }\n",
       "\n",
       "    .dataframe tbody tr th {\n",
       "        vertical-align: top;\n",
       "    }\n",
       "\n",
       "    .dataframe thead th {\n",
       "        text-align: right;\n",
       "    }\n",
       "</style>\n",
       "<table border=\"1\" class=\"dataframe\">\n",
       "  <thead>\n",
       "    <tr style=\"text-align: right;\">\n",
       "      <th></th>\n",
       "      <th>user_id</th>\n",
       "      <th>title_without_series</th>\n",
       "      <th>bert_rating</th>\n",
       "    </tr>\n",
       "  </thead>\n",
       "  <tbody>\n",
       "    <tr>\n",
       "      <th>0</th>\n",
       "      <td>cfa37f8ff40f4c05fe58462a0344aa27</td>\n",
       "      <td>Scarlet (The Lunar Chronicles, #2)</td>\n",
       "      <td>5</td>\n",
       "    </tr>\n",
       "    <tr>\n",
       "      <th>1</th>\n",
       "      <td>6a3a8c4abf9dc036d2a652fd364a4556</td>\n",
       "      <td>New Moon (Twilight, #2)</td>\n",
       "      <td>4</td>\n",
       "    </tr>\n",
       "    <tr>\n",
       "      <th>2</th>\n",
       "      <td>3d7107325f0bd2bd27a34904aededac3</td>\n",
       "      <td>Winter (The Lunar Chronicles, #4)</td>\n",
       "      <td>3</td>\n",
       "    </tr>\n",
       "    <tr>\n",
       "      <th>3</th>\n",
       "      <td>e7a00ca7bc7dc46217540ffce134f573</td>\n",
       "      <td>Angelfall (Penryn &amp; the End of Days, #1)</td>\n",
       "      <td>5</td>\n",
       "    </tr>\n",
       "    <tr>\n",
       "      <th>4</th>\n",
       "      <td>f05cc5cae2060dbb24fa88313b28783f</td>\n",
       "      <td>Let the Right One In</td>\n",
       "      <td>4</td>\n",
       "    </tr>\n",
       "  </tbody>\n",
       "</table>\n",
       "</div>"
      ],
      "text/plain": [
       "                            user_id                      title_without_series  \\\n",
       "0  cfa37f8ff40f4c05fe58462a0344aa27        Scarlet (The Lunar Chronicles, #2)   \n",
       "1  6a3a8c4abf9dc036d2a652fd364a4556                   New Moon (Twilight, #2)   \n",
       "2  3d7107325f0bd2bd27a34904aededac3         Winter (The Lunar Chronicles, #4)   \n",
       "3  e7a00ca7bc7dc46217540ffce134f573  Angelfall (Penryn & the End of Days, #1)   \n",
       "4  f05cc5cae2060dbb24fa88313b28783f                      Let the Right One In   \n",
       "\n",
       "   bert_rating  \n",
       "0            5  \n",
       "1            4  \n",
       "2            3  \n",
       "3            5  \n",
       "4            4  "
      ]
     },
     "execution_count": 2,
     "metadata": {},
     "output_type": "execute_result"
    }
   ],
   "source": [
    "import pandas as pd\n",
    "\n",
    "# 加载数据集\n",
    "data_path = 'pivot_use.csv'\n",
    "data = pd.read_csv(data_path)\n",
    "\n",
    "# 显示数据的前几行以了解其结构\n",
    "data.head()\n"
   ]
  },
  {
   "cell_type": "markdown",
   "id": "fc60272f-16ac-4e2e-892d-3994f8838163",
   "metadata": {},
   "source": [
    "数据预处理：\n",
    "将user_id和title_without_series转换为整数索引。\n",
    "分割数据集为训练集和测试集。\n",
    "\n",
    "模型架构：\n",
    "用户嵌入层：学习用户的嵌入表示。\n",
    "书籍嵌入层：学习书籍的嵌入表示。\n",
    "合并层：将用户和书籍的嵌入表示合并。\n",
    "全连接层：对合并后的嵌入进行处理，预测评分。\n",
    "\n",
    "训练模型：\n",
    "使用均方误差（MSE）作为损失函数。\n",
    "选择适合的优化器，例如Adam。\n",
    "\n",
    "评估和推荐：\n",
    "评估模型在测试集上的性能。\n",
    "对于给定的user_id，模型预测该用户对所有书籍的评分，然后选择评分最高的几本书作为推荐。"
   ]
  },
  {
   "cell_type": "code",
   "execution_count": 3,
   "id": "6a40062b-6d3f-49f3-8686-c62555ba3b49",
   "metadata": {},
   "outputs": [
    {
     "data": {
      "text/plain": [
       "(                                 user_id  \\\n",
       " 474626  cb2c55fc5ca9ae0b4f08110380e7fc2e   \n",
       " 204534  ba0fc22967bebdaa02ce36182680d024   \n",
       " 414735  d6f21f7979a2de875a4b6bdbc19b0946   \n",
       " 598359  f1f8afc85f175c799f6395ddf83cb8eb   \n",
       " 750923  45fd053d3e7295fb916743ce32fc0766   \n",
       " \n",
       "                                   title_without_series  bert_rating  \\\n",
       " 474626   Clockwork Princess (The Infernal Devices, #3)            5   \n",
       " 204534                                        Elantris            5   \n",
       " 414735             Snakeskin Boots (Were Menagerie #1)            4   \n",
       " 598359  A Game of Thrones (A Song of Ice and Fire, #1)            5   \n",
       " 750923      King Arthur's Sister in Washington's Court            4   \n",
       " \n",
       "         user_id_enc  title_enc  \n",
       " 474626       138877      18406  \n",
       " 204534       127201      30111  \n",
       " 414735       146997      78499  \n",
       " 598359       165450       1371  \n",
       " 750923        47988      49283  ,\n",
       " (913228, 5),\n",
       " (228308, 5))"
      ]
     },
     "execution_count": 3,
     "metadata": {},
     "output_type": "execute_result"
    }
   ],
   "source": [
    "# 数据预处理\n",
    "from sklearn.model_selection import train_test_split\n",
    "from sklearn.preprocessing import LabelEncoder\n",
    "\n",
    "# 初始化标签编码器\n",
    "user_le = LabelEncoder()\n",
    "item_le = LabelEncoder()\n",
    "\n",
    "# 对user_id和title_without_series进行编码\n",
    "data['user_id_enc'] = user_le.fit_transform(data['user_id'])\n",
    "data['title_enc'] = item_le.fit_transform(data['title_without_series'])\n",
    "\n",
    "# 分割数据集为训练集和测试集\n",
    "train, test = train_test_split(data, test_size=0.2, random_state=42)\n",
    "\n",
    "# 查看处理后的数据集和分割结果\n",
    "train.head(), \n",
    "train.shape, \n",
    "test.shape\n"
   ]
  },
  {
   "cell_type": "code",
   "execution_count": null,
   "id": "2849b8a9-6409-4781-92c9-753dd450f336",
   "metadata": {},
   "outputs": [],
   "source": [
    "# 模型架构\n",
    "\n",
    "\n",
    "from tensorflow.keras.models import Model\n",
    "from tensorflow.keras.layers import Input, Embedding, Flatten, Dot, Dense, Concatenate\n",
    "from tensorflow.keras.optimizers import Adam\n",
    "\n",
    "# 确定嵌入向量的大小\n",
    "embedding_size = 8\n",
    "\n",
    "# 用户嵌入模型\n",
    "user_input = Input(shape=(1,), name='user_input')\n",
    "user_embedding = Embedding(input_dim=train['user_id_enc'].nunique(), output_dim=embedding_size, name='user_embedding')(user_input)\n",
    "user_vec = Flatten(name='user_flatten')(user_embedding)\n",
    "\n",
    "# 书籍嵌入模型\n",
    "item_input = Input(shape=(1,), name='item_input')\n",
    "item_embedding = Embedding(input_dim=train['title_enc'].nunique(), output_dim=embedding_size, name='item_embedding')(item_input)\n",
    "item_vec = Flatten(name='item_flatten')(item_embedding)\n",
    "\n",
    "# 合并两个嵌入向量\n",
    "merged = Concatenate()([user_vec, item_vec])\n",
    "\n",
    "# 全连接层\n",
    "dense = Dense(128, activation='relu')(merged)\n",
    "dense = Dense(64, activation='relu')(dense)\n",
    "output = Dense(1)(dense)\n",
    "\n",
    "# 定义和编译模型\n",
    "model = Model(inputs=[user_input, item_input], outputs=output)\n",
    "model.compile(optimizer=Adam(0.001), loss='mean_squared_error')\n",
    "\n",
    "# 查看模型概览\n",
    "model.summary()\n"
   ]
  },
  {
   "cell_type": "code",
   "execution_count": null,
   "id": "636dcd79-f7b7-4dec-b232-91c3caa8bd88",
   "metadata": {},
   "outputs": [],
   "source": []
  },
  {
   "cell_type": "code",
   "execution_count": null,
   "id": "e6748052-81aa-4d51-90a0-7460d7d8de31",
   "metadata": {},
   "outputs": [],
   "source": []
  }
 ],
 "metadata": {
  "kernelspec": {
   "display_name": "Python 3 (ipykernel)",
   "language": "python",
   "name": "python3"
  },
  "language_info": {
   "codemirror_mode": {
    "name": "ipython",
    "version": 3
   },
   "file_extension": ".py",
   "mimetype": "text/x-python",
   "name": "python",
   "nbconvert_exporter": "python",
   "pygments_lexer": "ipython3",
   "version": "3.9.13"
  }
 },
 "nbformat": 4,
 "nbformat_minor": 5
}
